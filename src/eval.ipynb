{
 "cells": [
  {
   "cell_type": "code",
   "execution_count": 1,
   "metadata": {},
   "outputs": [
    {
     "name": "stderr",
     "output_type": "stream",
     "text": [
      "/opt/conda/lib/python3.11/site-packages/transformers/utils/generic.py:441: UserWarning: torch.utils._pytree._register_pytree_node is deprecated. Please use torch.utils._pytree.register_pytree_node instead.\n",
      "  _torch_pytree._register_pytree_node(\n",
      "/opt/conda/lib/python3.11/site-packages/transformers/utils/generic.py:309: UserWarning: torch.utils._pytree._register_pytree_node is deprecated. Please use torch.utils._pytree.register_pytree_node instead.\n",
      "  _torch_pytree._register_pytree_node(\n"
     ]
    }
   ],
   "source": [
    "from metrics.function_error import SquaredError\n",
    "from models.linear import LeastSquaresModel\n",
    "from models.zero_model import ZeroModel\n",
    "from function_classes.linear import LinearRegression\n",
    "\n",
    "from torch.distributions.normal import Normal\n",
    "import torch\n",
    "\n",
    "from torch import nn\n",
    "\n",
    "\n",
    "from torch import normal"
   ]
  },
  {
   "cell_type": "code",
   "execution_count": 2,
   "metadata": {},
   "outputs": [
    {
     "ename": "AttributeError",
     "evalue": "'dict' object has no attribute 'norm'",
     "output_type": "error",
     "traceback": [
      "\u001b[0;31m---------------------------------------------------------------------------\u001b[0m",
      "\u001b[0;31mAttributeError\u001b[0m                            Traceback (most recent call last)",
      "Cell \u001b[0;32mIn[2], line 5\u001b[0m\n\u001b[1;32m      1\u001b[0m m \u001b[38;5;241m=\u001b[39m Normal(torch\u001b[38;5;241m.\u001b[39mzeros((\u001b[38;5;241m128\u001b[39m, \u001b[38;5;241m100\u001b[39m, \u001b[38;5;241m10\u001b[39m)), torch\u001b[38;5;241m.\u001b[39mones((\u001b[38;5;241m128\u001b[39m, \u001b[38;5;241m100\u001b[39m ,\u001b[38;5;241m10\u001b[39m))) \u001b[38;5;66;03m#batch size, sequence_length, x_dim\u001b[39;00m\n\u001b[1;32m      3\u001b[0m error\u001b[38;5;241m=\u001b[39mSquaredError(function_class\u001b[38;5;241m=\u001b[39mLinearRegression(m))\n\u001b[0;32m----> 5\u001b[0m evals\u001b[38;5;241m=\u001b[39merror\u001b[38;5;241m.\u001b[39mNoisyYDistribution([LeastSquaresModel(), ZeroModel()], \u001b[38;5;28;01mlambda\u001b[39;00m x: x\u001b[38;5;241m+\u001b[39mNormal(torch\u001b[38;5;241m.\u001b[39mzeros(\u001b[38;5;241m128\u001b[39m, \u001b[38;5;241m100\u001b[39m), \u001b[38;5;241m0.5\u001b[39m\u001b[38;5;241m*\u001b[39mtorch\u001b[38;5;241m.\u001b[39mones(\u001b[38;5;241m128\u001b[39m, \u001b[38;5;241m100\u001b[39m))\u001b[38;5;241m.\u001b[39msample())\n\u001b[1;32m      7\u001b[0m \u001b[38;5;28mprint\u001b[39m(evals[\u001b[38;5;241m0\u001b[39m]\u001b[38;5;241m.\u001b[39mkeys())\n\u001b[1;32m      9\u001b[0m \u001b[38;5;28mprint\u001b[39m(evals[\u001b[38;5;241m1\u001b[39m])\n",
      "File \u001b[0;32m/workspaces/in-context/src/metrics/function_error.py:119\u001b[0m, in \u001b[0;36mFunctionClassError.NoisyYDistribution\u001b[0;34m(self, models, noise_y_func)\u001b[0m\n\u001b[1;32m    109\u001b[0m         errs[:, i] \u001b[38;5;241m=\u001b[39m torch\u001b[38;5;241m.\u001b[39mstack([\n\u001b[1;32m    110\u001b[0m             \u001b[38;5;28mself\u001b[39m\u001b[38;5;241m.\u001b[39m_metric(\n\u001b[1;32m    111\u001b[0m                 y_batch,\n\u001b[0;32m   (...)\u001b[0m\n\u001b[1;32m    114\u001b[0m             \u001b[38;5;28;01mfor\u001b[39;00m model \u001b[38;5;129;01min\u001b[39;00m models\n\u001b[1;32m    115\u001b[0m         ])\n\u001b[1;32m    117\u001b[0m errs\u001b[38;5;241m=\u001b[39mtorch\u001b[38;5;241m.\u001b[39mreshape(errs, (\u001b[38;5;28mlen\u001b[39m(models), \u001b[38;5;28mself\u001b[39m\u001b[38;5;241m.\u001b[39mnum_batches\u001b[38;5;241m*\u001b[39mbatch_size, sequence_length))\n\u001b[0;32m--> 119\u001b[0m \u001b[38;5;28;01mreturn\u001b[39;00m \u001b[38;5;28mself\u001b[39m\u001b[38;5;241m.\u001b[39mPostProcessingStats(errs, [model\u001b[38;5;241m.\u001b[39mname \u001b[38;5;28;01mfor\u001b[39;00m model \u001b[38;5;129;01min\u001b[39;00m models]), errs\n",
      "File \u001b[0;32m/workspaces/in-context/src/metrics/function_error.py:49\u001b[0m, in \u001b[0;36mFunctionClassError.PostProcessingStats\u001b[0;34m(self, errs, model_names, prefix, B, confidence_level)\u001b[0m\n\u001b[1;32m     47\u001b[0m         stats[prefix\u001b[38;5;241m+\u001b[39m\u001b[38;5;124m\"\u001b[39m\u001b[38;5;124mquantile_\u001b[39m\u001b[38;5;124m\"\u001b[39m\u001b[38;5;241m+\u001b[39mname\u001b[38;5;241m+\u001b[39m\u001b[38;5;28mstr\u001b[39m([\u001b[38;5;241m0\u001b[39m, \u001b[38;5;241m0.01\u001b[39m, \u001b[38;5;241m0.05\u001b[39m, \u001b[38;5;241m0.1\u001b[39m, \u001b[38;5;241m0.25\u001b[39m, \u001b[38;5;241m0.5\u001b[39m, \u001b[38;5;241m0.75\u001b[39m, \u001b[38;5;241m0.9\u001b[39m, \u001b[38;5;241m0.95\u001b[39m, \u001b[38;5;241m0.99\u001b[39m, \u001b[38;5;241m1\u001b[39m][j])]\u001b[38;5;241m=\u001b[39mquantiles[j, i]\n\u001b[1;32m     48\u001b[0m     \u001b[38;5;28;01mfor\u001b[39;00m j \u001b[38;5;129;01min\u001b[39;00m \u001b[38;5;28mrange\u001b[39m(\u001b[38;5;241m0\u001b[39m, \u001b[38;5;28mlen\u001b[39m(confidence_level)):\n\u001b[0;32m---> 49\u001b[0m         stats[prefix\u001b[38;5;241m+\u001b[39m\u001b[38;5;124m\"\u001b[39m\u001b[38;5;124mconfidence_level\u001b[39m\u001b[38;5;124m\"\u001b[39m\u001b[38;5;241m+\u001b[39mname\u001b[38;5;241m+\u001b[39m\u001b[38;5;28mstr\u001b[39m(confidence_level[j])] \u001b[38;5;241m=\u001b[39m [mean[i]\u001b[38;5;241m-\u001b[39mstats\u001b[38;5;241m.\u001b[39mnorm\u001b[38;5;241m.\u001b[39mppf(confidence_level[j]\u001b[38;5;241m/\u001b[39m\u001b[38;5;241m2\u001b[39m)\u001b[38;5;241m*\u001b[39mvariance_estimate[i], mean[i]\u001b[38;5;241m+\u001b[39mstats\u001b[38;5;241m.\u001b[39mnorm\u001b[38;5;241m.\u001b[39mppf(\u001b[38;5;241m1\u001b[39m\u001b[38;5;241m-\u001b[39mconfidence_level[j]\u001b[38;5;241m/\u001b[39m\u001b[38;5;241m2\u001b[39m)\u001b[38;5;241m*\u001b[39mvariance_estimate[i]] \n\u001b[1;32m     51\u001b[0m \u001b[38;5;28;01mif\u001b[39;00m \u001b[38;5;28mself\u001b[39m\u001b[38;5;241m.\u001b[39msave_path\u001b[38;5;241m!=\u001b[39m\u001b[38;5;28;01mNone\u001b[39;00m:\n\u001b[1;32m     52\u001b[0m     os\u001b[38;5;241m.\u001b[39mmakedirs(\u001b[38;5;28mself\u001b[39m\u001b[38;5;241m.\u001b[39msave_path, exist_ok\u001b[38;5;241m=\u001b[39m\u001b[38;5;28;01mTrue\u001b[39;00m)\n",
      "\u001b[0;31mAttributeError\u001b[0m: 'dict' object has no attribute 'norm'"
     ]
    }
   ],
   "source": [
    "m = Normal(torch.zeros((128, 100, 10)), torch.ones((128, 100 ,10))) #batch size, sequence_length, x_dim\n",
    "\n",
    "error=SquaredError(function_class=LinearRegression(m))\n",
    "\n",
    "evals=error.NoisyYDistribution([LeastSquaresModel(), ZeroModel()], lambda x: x+Normal(torch.zeros(128, 100), 0.5*torch.ones(128, 100)).sample())\n",
    "\n",
    "print(evals[0].keys())\n",
    "\n",
    "print(evals[1])"
   ]
  },
  {
   "cell_type": "code",
   "execution_count": 18,
   "metadata": {},
   "outputs": [
    {
     "name": "stdout",
     "output_type": "stream",
     "text": [
      "tensor([1.1697e+03, 9.5215e+02, 7.7511e+02, 8.1989e+02, 5.8021e+02, 5.5444e+02,\n",
      "        4.7646e+02, 3.1590e+02, 1.9652e+02, 1.0532e+02, 4.3925e+03, 4.6377e+00,\n",
      "        2.1437e+00, 1.4659e+00, 8.9547e-01, 6.6372e-01, 8.6869e-01, 6.9393e-01,\n",
      "        5.7784e-01, 5.7939e-01, 4.2772e-01, 5.0160e-01, 5.9865e-01, 4.1616e-01,\n",
      "        5.1406e-01, 3.1865e-01, 4.3259e-01, 4.2122e-01, 4.0590e-01, 3.7596e-01,\n",
      "        3.5796e-01, 3.8278e-01, 3.8103e-01, 3.1733e-01, 4.0904e-01, 3.2932e-01,\n",
      "        2.9842e-01, 3.5966e-01, 3.5618e-01, 3.3109e-01, 3.2679e-01, 3.1571e-01,\n",
      "        3.1286e-01, 3.0451e-01, 3.3107e-01, 2.8805e-01, 2.9251e-01, 3.5557e-01,\n",
      "        2.8834e-01, 2.5269e-01, 2.9424e-01, 3.3526e-01, 2.5627e-01, 3.8789e-01,\n",
      "        2.9945e-01, 2.4774e-01, 3.4980e-01, 3.2205e-01, 3.3095e-01, 3.9124e-01,\n",
      "        2.3306e-01, 3.3207e-01, 3.0484e-01, 3.5885e-01, 3.1390e-01, 2.7444e-01,\n",
      "        3.1895e-01, 2.8051e-01, 3.0686e-01, 2.4926e-01, 2.7461e-01, 2.5881e-01,\n",
      "        2.3508e-01, 2.7157e-01, 2.1906e-01, 2.2816e-01, 2.5797e-01, 2.1722e-01,\n",
      "        3.3073e-01, 3.0700e-01, 2.9072e-01, 3.2466e-01, 3.2880e-01, 2.7384e-01,\n",
      "        3.2328e-01, 3.2391e-01, 3.1351e-01, 2.3532e-01, 3.3511e-01, 2.8303e-01,\n",
      "        3.0497e-01, 3.2758e-01, 2.7655e-01, 2.2929e-01, 2.4275e-01, 2.3826e-01,\n",
      "        2.9061e-01, 2.3821e-01, 2.8691e-01, 2.9701e-01])\n"
     ]
    },
    {
     "data": {
      "image/png": "[encoded data removed]",
      "text/plain": [
       "<Figure size 640x480 with 1 Axes>"
      ]
     },
     "metadata": {},
     "output_type": "display_data"
    }
   ],
   "source": [
    "import matplotlib.pyplot as plt\n",
    "\n",
    "plt.plot(evals[0]['accuracy_OLS_driver=None'])\n",
    "\n",
    "print(evals[0][\"accuracy_OLS_driver=None\"])\n",
    "\n",
    "plt.show()"
   ]
  }
 ],
 "metadata": {
  "kernelspec": {
   "display_name": "Python 3",
   "language": "python",
   "name": "python3"
  },
  "language_info": {
   "codemirror_mode": {
    "name": "ipython",
    "version": 3
   },
   "file_extension": ".py",
   "mimetype": "text/x-python",
   "name": "python",
   "nbconvert_exporter": "python",
   "pygments_lexer": "ipython3",
   "version": "3.11.7"
  }
 },
 "nbformat": 4,
 "nbformat_minor": 2
}
