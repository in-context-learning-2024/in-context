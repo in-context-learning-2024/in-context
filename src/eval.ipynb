{
 "cells": [
  {
   "cell_type": "code",
   "execution_count": 1,
   "metadata": {},
   "outputs": [
    {
     "name": "stderr",
     "output_type": "stream",
     "text": [
      "/home/codespace/.python/current/lib/python3.10/site-packages/tqdm/auto.py:21: TqdmWarning: IProgress not found. Please update jupyter and ipywidgets. See https://ipywidgets.readthedocs.io/en/stable/user_install.html\n",
      "  from .autonotebook import tqdm as notebook_tqdm\n"
     ]
    }
   ],
   "source": [
    "from metrics.function_error import SquaredError\n",
    "from models.linear import LeastSquaresModel\n",
    "from models.zero_model import ZeroModel\n",
    "from function_classes.linear import LinearRegression\n",
    "\n",
    "from torch.distributions.normal import Normal\n",
    "import torch\n",
    "\n",
    "from torch import nn\n",
    "\n",
    "\n",
    "from torch import normal"
   ]
  },
  {
   "cell_type": "code",
   "execution_count": 2,
   "metadata": {},
   "outputs": [
    {
     "name": "stdout",
     "output_type": "stream",
     "text": [
      "torch.Size([2, 40, 100])\n",
      "dict_keys(['accuracy_OLS_driver=None', 'std_OLS_driver=None', 'std_mean_OLS_driver=None', 'max_OLS_driver=None', 'min_OLS_driver=None', 'quantile_OLS_driver=None0.01', 'quantile_OLS_driver=None0.05', 'quantile_OLS_driver=None0.1', 'quantile_OLS_driver=None0.25', 'quantile_OLS_driver=None0.5', 'quantile_OLS_driver=None0.75', 'quantile_OLS_driver=None0.9', 'quantile_OLS_driver=None0.95', 'quantile_OLS_driver=None0.99', 'accuracy_zero_model', 'std_zero_model', 'std_mean_zero_model', 'max_zero_model', 'min_zero_model', 'quantile_zero_model0.01', 'quantile_zero_model0.05', 'quantile_zero_model0.1', 'quantile_zero_model0.25', 'quantile_zero_model0.5', 'quantile_zero_model0.75', 'quantile_zero_model0.9', 'quantile_zero_model0.95', 'quantile_zero_model0.99'])\n",
      "tensor([[[5.5825e+02, 1.1699e+03, 1.2824e+00,  ..., 1.1141e-11,\n",
      "          0.0000e+00, 3.2742e-11],\n",
      "         [6.5813e+00, 9.4430e+02, 4.8470e+02,  ..., 5.2387e-10,\n",
      "          5.8208e-11, 1.3097e-10],\n",
      "         [2.5437e+01, 3.9876e+03, 2.1091e+02,  ..., 1.4552e-11,\n",
      "          5.1159e-11, 5.6843e-12],\n",
      "         ...,\n",
      "         [1.1794e+02, 1.2332e+01, 2.6330e+02,  ..., 3.2742e-11,\n",
      "          1.4552e-11, 3.6380e-12],\n",
      "         [1.0690e+02, 4.4732e+02, 2.3709e+01,  ..., 5.8208e-11,\n",
      "          3.6380e-10, 1.4552e-11],\n",
      "         [6.3275e-01, 1.9384e+02, 7.2585e+01,  ..., 2.2737e-11,\n",
      "          3.6380e-12, 5.1159e-13]],\n",
      "\n",
      "        [[5.5825e+02, 1.9253e+03, 1.0391e+02,  ..., 3.1307e+00,\n",
      "          5.9418e+01, 3.1053e+02],\n",
      "         [6.5813e+00, 8.8858e+02, 6.1375e+02,  ..., 4.4131e+03,\n",
      "          4.2316e+02, 2.6726e+03],\n",
      "         [2.5437e+01, 3.9597e+03, 1.6211e+01,  ..., 2.2178e+02,\n",
      "          5.5245e+01, 2.7939e+00],\n",
      "         ...,\n",
      "         [1.1794e+02, 1.0359e+02, 1.8051e+02,  ..., 4.3954e+01,\n",
      "          6.4178e+02, 5.0285e+02],\n",
      "         [1.0690e+02, 5.0550e+02, 3.0119e+00,  ..., 5.4603e+02,\n",
      "          1.0065e+03, 4.0157e+03],\n",
      "         [6.3275e-01, 1.9333e+02, 8.8137e+01,  ..., 1.1232e+02,\n",
      "          3.4936e+02, 1.0992e+01]]])\n"
     ]
    }
   ],
   "source": [
    "m = Normal(torch.zeros((4, 100, 10)), torch.ones((4, 100 ,10))) #batch size, sequence_length, x_dim\n",
    "\n",
    "error=SquaredError(function_class=LinearRegression(m))\n",
    "\n",
    "evals=error.evaluate([LeastSquaresModel(), ZeroModel()])\n",
    "\n",
    "print(evals[0].keys())\n",
    "\n",
    "print(evals[1])"
   ]
  },
  {
   "cell_type": "code",
   "execution_count": 4,
   "metadata": {},
   "outputs": [
    {
     "data": {
      "text/plain": [
       "[<matplotlib.lines.Line2D at 0x7fca4784c7f0>]"
      ]
     },
     "execution_count": 4,
     "metadata": {},
     "output_type": "execute_result"
    },
    {
     "data": {
      "image/png": "[encoded data removed]",
      "text/plain": [
       "<Figure size 640x480 with 1 Axes>"
      ]
     },
     "metadata": {},
     "output_type": "display_data"
    }
   ],
   "source": [
    "import matplotlib.pyplot as plt\n",
    "\n",
    "plt.plot(evals[0]['accuracy_OLS_driver=None'])"
   ]
  }
 ],
 "metadata": {
  "kernelspec": {
   "display_name": "Python 3",
   "language": "python",
   "name": "python3"
  },
  "language_info": {
   "codemirror_mode": {
    "name": "ipython",
    "version": 3
   },
   "file_extension": ".py",
   "mimetype": "text/x-python",
   "name": "python",
   "nbconvert_exporter": "python",
   "pygments_lexer": "ipython3",
   "version": "3.10.13"
  }
 },
 "nbformat": 4,
 "nbformat_minor": 2
}
